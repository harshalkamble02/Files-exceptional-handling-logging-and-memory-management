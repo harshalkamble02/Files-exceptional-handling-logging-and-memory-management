{
  "nbformat": 4,
  "nbformat_minor": 0,
  "metadata": {
    "colab": {
      "provenance": []
    },
    "kernelspec": {
      "name": "python3",
      "display_name": "Python 3"
    },
    "language_info": {
      "name": "python"
    }
  },
  "cells": [
    {
      "cell_type": "code",
      "execution_count": 1,
      "metadata": {
        "id": "iHjOhdzg56f-"
      },
      "outputs": [],
      "source": [
        "# Q1.How can you open a file for writing in Python and write a string to it?\n",
        "with open(\"file.txt\", \"w\") as f:\n",
        "    f.write(\"Hello World\")"
      ]
    },
    {
      "cell_type": "code",
      "source": [
        "with open(\"file.txt\", \"r\") as f:\n",
        "    print(f.read())"
      ],
      "metadata": {
        "colab": {
          "base_uri": "https://localhost:8080/"
        },
        "id": "ENih_opWnLvg",
        "outputId": "ffafc496-4b12-4b78-a244-7ef1bce13daa"
      },
      "execution_count": 2,
      "outputs": [
        {
          "output_type": "stream",
          "name": "stdout",
          "text": [
            "Hello World\n"
          ]
        }
      ]
    },
    {
      "cell_type": "code",
      "source": [
        "# Q2.Write a Python program to read the contents of a file and print each line.\n",
        "with open(\"file.txt\", \"r\") as f:\n",
        "    for line in f:\n",
        "        print(line.strip())"
      ],
      "metadata": {
        "colab": {
          "base_uri": "https://localhost:8080/"
        },
        "id": "fcUwEsElkgDo",
        "outputId": "3244dd65-cc89-4e7f-a985-2b4113dd7a93"
      },
      "execution_count": 3,
      "outputs": [
        {
          "output_type": "stream",
          "name": "stdout",
          "text": [
            "Hello World\n"
          ]
        }
      ]
    },
    {
      "cell_type": "code",
      "source": [
        "# Q3.How would you handle a case where the file doesn’t exist while trying to open it for reading?\n",
        "try:\n",
        "    with open(\"nofile.txt\", \"r\") as f:\n",
        "        print(f.read())\n",
        "except FileNotFoundError:\n",
        "    print(\"File not found!\")"
      ],
      "metadata": {
        "colab": {
          "base_uri": "https://localhost:8080/"
        },
        "id": "a5sjjHDkkikG",
        "outputId": "8a03b0d4-1393-4474-a011-a4ca21e3174d"
      },
      "execution_count": 5,
      "outputs": [
        {
          "output_type": "stream",
          "name": "stdout",
          "text": [
            "File not found!\n"
          ]
        }
      ]
    },
    {
      "cell_type": "code",
      "source": [
        "# Q4. Write a Python script that reads from one file and writes its content to another file.\n",
        "try:\n",
        "    with open(\"source.txt\", \"r\") as src, open(\"copy.txt\", \"w\") as dest:\n",
        "        dest.write(src.read())\n",
        "except FileNotFoundError:\n",
        "    print(\"Source file not found!\")"
      ],
      "metadata": {
        "colab": {
          "base_uri": "https://localhost:8080/"
        },
        "id": "Y4L703x5kk02",
        "outputId": "c64f7cda-4d76-4ac1-9717-cd48fb072903"
      },
      "execution_count": 7,
      "outputs": [
        {
          "output_type": "stream",
          "name": "stdout",
          "text": [
            "Source file not found!\n"
          ]
        }
      ]
    },
    {
      "cell_type": "code",
      "source": [
        "# Q5. How would you catch and handle division by zero error in Python?\n",
        "try:\n",
        "    print(10/0)\n",
        "except ZeroDivisionError:\n",
        "    print(\"Cannot divide by zero!\")"
      ],
      "metadata": {
        "colab": {
          "base_uri": "https://localhost:8080/"
        },
        "id": "pMw30clMkm_m",
        "outputId": "ea85b362-6ba7-4892-e384-c436e6d3912b"
      },
      "execution_count": 8,
      "outputs": [
        {
          "output_type": "stream",
          "name": "stdout",
          "text": [
            "Cannot divide by zero!\n"
          ]
        }
      ]
    },
    {
      "cell_type": "code",
      "source": [
        "#Q6. Write a Python program that logs an error message to a log file when a division by zero exception occurs.\n",
        "import logging\n",
        "logging.basicConfig(filename=\"error.log\", level=logging.ERROR)\n",
        "\n",
        "try:\n",
        "    10/0\n",
        "except ZeroDivisionError:\n",
        "    logging.error(\"Division by zero error!\")"
      ],
      "metadata": {
        "colab": {
          "base_uri": "https://localhost:8080/"
        },
        "id": "5IhO87jzkpEn",
        "outputId": "852bd881-8f4f-4b08-a04c-dc23455aa0f6"
      },
      "execution_count": 9,
      "outputs": [
        {
          "output_type": "stream",
          "name": "stderr",
          "text": [
            "ERROR:root:Division by zero error!\n"
          ]
        }
      ]
    },
    {
      "cell_type": "code",
      "source": [
        "# Q7.How do you log information at different levels (INFO, ERROR, WARNING) in Python using the logging module?\n",
        "import logging\n",
        "logging.basicConfig(level=logging.DEBUG)\n",
        "logging.info(\"Info message\")\n",
        "logging.warning(\"Warning message\")\n",
        "logging.error(\"Error message\")"
      ],
      "metadata": {
        "colab": {
          "base_uri": "https://localhost:8080/"
        },
        "id": "SE_Hy93EkrEf",
        "outputId": "39fd831c-ed95-43aa-8561-52800270a188"
      },
      "execution_count": 10,
      "outputs": [
        {
          "output_type": "stream",
          "name": "stderr",
          "text": [
            "WARNING:root:Warning message\n",
            "ERROR:root:Error message\n"
          ]
        }
      ]
    },
    {
      "cell_type": "code",
      "source": [
        "# Q8. Write a program to handle a file opening error using exception handling.\n",
        "try:\n",
        "    f = open(\"unknown.txt\", \"r\")\n",
        "except IOError:\n",
        "    print(\"File cannot be opened!\")"
      ],
      "metadata": {
        "colab": {
          "base_uri": "https://localhost:8080/"
        },
        "id": "QCS2rmMfku6f",
        "outputId": "a980eb4e-44bf-4aad-de67-aa4c5b84717c"
      },
      "execution_count": 11,
      "outputs": [
        {
          "output_type": "stream",
          "name": "stdout",
          "text": [
            "File cannot be opened!\n"
          ]
        }
      ]
    },
    {
      "cell_type": "code",
      "source": [
        "# Q9. How can you read a file line by line and store its content in a list in Python?\n",
        "with open(\"file.txt\", \"r\") as f:\n",
        "    lines = f.readlines()\n",
        "print(lines)"
      ],
      "metadata": {
        "colab": {
          "base_uri": "https://localhost:8080/"
        },
        "id": "jYUrFtigkxqX",
        "outputId": "5225ef94-1b4f-47de-d3c0-2607d0f14425"
      },
      "execution_count": 12,
      "outputs": [
        {
          "output_type": "stream",
          "name": "stdout",
          "text": [
            "['Hello World']\n"
          ]
        }
      ]
    },
    {
      "cell_type": "code",
      "source": [
        "# Q10. How can you append data to an existing file in Python?\n",
        "with open(\"file.txt\", \"a\") as f:\n",
        "    f.write(\"New line\\n\")\n",
        "    # Now read the file to confirm the new content\n",
        "with open(\"file.txt\", \"r\") as f:\n",
        "    print(f.read())"
      ],
      "metadata": {
        "colab": {
          "base_uri": "https://localhost:8080/"
        },
        "id": "Aj2oQA5Ek1-_",
        "outputId": "9bbc99d9-fa05-4b56-b925-c3e9b3d47e81"
      },
      "execution_count": 21,
      "outputs": [
        {
          "output_type": "stream",
          "name": "stdout",
          "text": [
            "Hello WorldNew line\n",
            "New line\n",
            "\n",
            "New line\n",
            "New lineNew line\n",
            "\n"
          ]
        }
      ]
    },
    {
      "cell_type": "code",
      "source": [
        "# Q11. Write a Python program that uses a try-except block to handle an error when attempting to access a dictionary key that doesn’t exist.\n",
        "data = {\"name\": \"John\"}\n",
        "try:\n",
        "    print(data[\"age\"])\n",
        "except KeyError:\n",
        "    print(\"Key not found!\")"
      ],
      "metadata": {
        "colab": {
          "base_uri": "https://localhost:8080/"
        },
        "id": "-V1eCKuak4j9",
        "outputId": "2ab68498-2016-451d-b8df-b1615a471895"
      },
      "execution_count": 19,
      "outputs": [
        {
          "output_type": "stream",
          "name": "stdout",
          "text": [
            "Key not found!\n"
          ]
        }
      ]
    },
    {
      "cell_type": "code",
      "source": [
        "# Q12. Write a program that demonstrates using multiple except blocks to handle different types of exceptions.\n",
        "try:\n",
        "    num = int(\"abc\")\n",
        "    print(10/0)\n",
        "except ValueError:\n",
        "    print(\"Value Error\")\n",
        "except ZeroDivisionError:\n",
        "    print(\"Division by zero\")"
      ],
      "metadata": {
        "colab": {
          "base_uri": "https://localhost:8080/"
        },
        "id": "SPuhgSVyk69T",
        "outputId": "681d7d09-3bf5-41a5-cd3a-f9d5fba08bf6"
      },
      "execution_count": 20,
      "outputs": [
        {
          "output_type": "stream",
          "name": "stdout",
          "text": [
            "Value Error\n"
          ]
        }
      ]
    },
    {
      "cell_type": "code",
      "source": [
        "# Q13. How would you check if a file exists before attempting to read it in Python?\n",
        "import os\n",
        "if os.path.exists(\"file.txt\"):\n",
        "    print(\"File exists\")"
      ],
      "metadata": {
        "colab": {
          "base_uri": "https://localhost:8080/"
        },
        "id": "8W31vnZzk9GF",
        "outputId": "a87263f2-7320-44eb-a71e-4a33cfe23d86"
      },
      "execution_count": 22,
      "outputs": [
        {
          "output_type": "stream",
          "name": "stdout",
          "text": [
            "File exists\n"
          ]
        }
      ]
    },
    {
      "cell_type": "code",
      "source": [
        "# Q14. Write a program that uses the logging module to log both informational and error messages.\n",
        "import logging\n",
        "logging.basicConfig(level=logging.INFO)\n",
        "logging.info(\"This is an info message\")\n",
        "logging.error(\"This is an error message\")"
      ],
      "metadata": {
        "colab": {
          "base_uri": "https://localhost:8080/"
        },
        "id": "A6DP-oG_k-1q",
        "outputId": "05b7d6f7-b798-4327-c99e-170ecc213415"
      },
      "execution_count": 23,
      "outputs": [
        {
          "output_type": "stream",
          "name": "stderr",
          "text": [
            "ERROR:root:This is an error message\n"
          ]
        }
      ]
    },
    {
      "cell_type": "code",
      "source": [
        "# Q15. Write a Python program that prints the content of a file and handles the case when the file is empty.\n",
        "with open(\"file.txt\", \"r\") as f:\n",
        "    data = f.read()\n",
        "    if not data:\n",
        "        print(\"File is empty\")\n",
        "    else:\n",
        "        print(data)"
      ],
      "metadata": {
        "colab": {
          "base_uri": "https://localhost:8080/"
        },
        "id": "r-_LPuYklB24",
        "outputId": "6a06844a-1e71-49e7-b233-10a376382208"
      },
      "execution_count": 24,
      "outputs": [
        {
          "output_type": "stream",
          "name": "stdout",
          "text": [
            "Hello WorldNew line\n",
            "New line\n",
            "\n",
            "New line\n",
            "New lineNew line\n",
            "\n"
          ]
        }
      ]
    },
    {
      "cell_type": "code",
      "source": [
        "# Q16. Demonstrate how to use memory profiling to check the memory usage of a small program.\n",
        "from memory_profiler import profile\n",
        "\n",
        "@profile\n",
        "def test():\n",
        "    a = [i for i in range(1000)]\n",
        "test()"
      ],
      "metadata": {
        "colab": {
          "base_uri": "https://localhost:8080/"
        },
        "collapsed": true,
        "id": "pjHr-6vYlF9g",
        "outputId": "aae07c21-a086-4393-c09d-cc08d8720379"
      },
      "execution_count": 27,
      "outputs": [
        {
          "output_type": "stream",
          "name": "stderr",
          "text": [
            "\n",
            "PYDEV DEBUGGER WARNING:\n",
            "sys.settrace() should not be used when the debugger is being used.\n",
            "This may cause the debugger to stop working correctly.\n",
            "If this is needed, please check: \n",
            "http://pydev.blogspot.com/2007/06/why-cant-pydev-debugger-work-with.html\n",
            "to see how to restore the debug tracing back correctly.\n",
            "Call Location:\n",
            "  File \"/usr/local/lib/python3.11/dist-packages/memory_profiler.py\", line 847, in enable\n",
            "    sys.settrace(self.trace_memory_usage)\n",
            "\n",
            "\n",
            "PYDEV DEBUGGER WARNING:\n",
            "sys.settrace() should not be used when the debugger is being used.\n",
            "This may cause the debugger to stop working correctly.\n",
            "If this is needed, please check: \n",
            "http://pydev.blogspot.com/2007/06/why-cant-pydev-debugger-work-with.html\n",
            "to see how to restore the debug tracing back correctly.\n",
            "Call Location:\n",
            "  File \"/usr/local/lib/python3.11/dist-packages/memory_profiler.py\", line 850, in disable\n",
            "    sys.settrace(self._original_trace_function)\n",
            "\n"
          ]
        },
        {
          "output_type": "stream",
          "name": "stdout",
          "text": [
            "ERROR: Could not find file /tmp/ipython-input-2835625693.py\n"
          ]
        }
      ]
    },
    {
      "cell_type": "code",
      "source": [
        "# Q17. Write a Python program to create and write a list of numbers to a file, one number per line.\n",
        "nums = [1, 2, 3, 4]\n",
        "with open(\"numbers.txt\", \"w\") as f:\n",
        "    for n in nums:\n",
        "        f.write(str(n) + \"\\n\")\n",
        "        # Read back and display the file contents\n",
        "with open(\"numbers.txt\", \"r\") as f:\n",
        "    print(f.read())"
      ],
      "metadata": {
        "colab": {
          "base_uri": "https://localhost:8080/"
        },
        "id": "HNVZWR90lHz5",
        "outputId": "117a74e7-6c36-426b-d85d-b863cdfc87b8"
      },
      "execution_count": 30,
      "outputs": [
        {
          "output_type": "stream",
          "name": "stdout",
          "text": [
            "1\n",
            "2\n",
            "3\n",
            "4\n",
            "\n"
          ]
        }
      ]
    },
    {
      "cell_type": "code",
      "source": [
        "# Q18. How would you implement a basic logging setup that logs to a file with rotation after 1MB?\n",
        "import logging\n",
        "from logging.handlers import RotatingFileHandler\n",
        "\n",
        "# Clear old log handlers (important for Colab so logging works every run)\n",
        "for handler in logging.root.handlers[:]:\n",
        "    logging.root.removeHandler(handler)\n",
        "\n",
        "# Set up rotating file handler (1MB per file, 3 backups)\n",
        "handler = RotatingFileHandler(\"app.log\", maxBytes=1000000, backupCount=3)\n",
        "\n",
        "# Configure logging fresh every time\n",
        "logging.basicConfig(handlers=[handler], level=logging.INFO, format=\"%(asctime)s - %(levelname)s - %(message)s\")\n",
        "\n",
        "# Write a test log message\n",
        "logging.info(\"Log with rotation\")\n",
        "\n",
        "# Read & print log file content\n",
        "with open(\"app.log\", \"r\") as f:\n",
        "    print(\"📄 Log File Contents:\\n\")\n",
        "    print(f.read())\n",
        "\n"
      ],
      "metadata": {
        "colab": {
          "base_uri": "https://localhost:8080/"
        },
        "id": "g6If7LetlJpd",
        "outputId": "bf4633c7-6092-42b2-8fa0-e5d580448de6"
      },
      "execution_count": 35,
      "outputs": [
        {
          "output_type": "stream",
          "name": "stdout",
          "text": [
            "📄 Log File Contents:\n",
            "\n",
            "2025-08-03 11:19:31,664 - INFO - Log with rotation\n",
            "\n"
          ]
        }
      ]
    },
    {
      "cell_type": "code",
      "source": [
        "# Q19. Write a program that handles both IndexError and KeyError using a try-except block.\n",
        "data = {\"name\": \"John\"}\n",
        "lst = [1, 2]\n",
        "\n",
        "try:\n",
        "    print(lst[5])\n",
        "    print(data[\"age\"])\n",
        "except IndexError:\n",
        "    print(\"Index out of range\")\n",
        "except KeyError:\n",
        "    print(\"Key missing\")"
      ],
      "metadata": {
        "colab": {
          "base_uri": "https://localhost:8080/"
        },
        "id": "0fIOQphAlL4-",
        "outputId": "0269fd9c-53ae-4a77-e4f9-644b993a4a39"
      },
      "execution_count": 36,
      "outputs": [
        {
          "output_type": "stream",
          "name": "stdout",
          "text": [
            "Index out of range\n"
          ]
        }
      ]
    },
    {
      "cell_type": "code",
      "source": [
        "# Q20. How would you open a file and read its contents using a context manager in Python?\n",
        "with open(\"file.txt\", \"r\") as f:\n",
        "    print(f.read())"
      ],
      "metadata": {
        "colab": {
          "base_uri": "https://localhost:8080/"
        },
        "id": "jLXSuoXdlO5e",
        "outputId": "cef1630d-4292-482f-cadb-00383399b649"
      },
      "execution_count": 37,
      "outputs": [
        {
          "output_type": "stream",
          "name": "stdout",
          "text": [
            "Hello WorldNew line\n",
            "New line\n",
            "\n",
            "New line\n",
            "New lineNew line\n",
            "\n"
          ]
        }
      ]
    },
    {
      "cell_type": "code",
      "source": [
        "# Q21. Write a Python program that reads a file and prints the number of occurrences of a specific word.\n",
        "word = \"Python\"\n",
        "with open(\"file.txt\", \"r\") as f:\n",
        "    text = f.read()\n",
        "print(text.count(word))"
      ],
      "metadata": {
        "colab": {
          "base_uri": "https://localhost:8080/"
        },
        "id": "fdKMpl3UlSP3",
        "outputId": "64530776-2bca-4087-f96c-7ec771657a5a"
      },
      "execution_count": 38,
      "outputs": [
        {
          "output_type": "stream",
          "name": "stdout",
          "text": [
            "0\n"
          ]
        }
      ]
    },
    {
      "cell_type": "code",
      "source": [
        "# Q22. How can you check if a file is empty before attempting to read its contents?\n",
        "import os\n",
        "if os.path.getsize(\"file.txt\") == 0:\n",
        "    print(\"File is empty\")"
      ],
      "metadata": {
        "id": "-GxdhBAulUNl"
      },
      "execution_count": 39,
      "outputs": []
    },
    {
      "cell_type": "code",
      "source": [
        "# Q23. Write a Python program that writes to a log file when an error occurs during file handling.\n",
        "import logging\n",
        "logging.basicConfig(filename=\"file_error.log\", level=logging.ERROR)\n",
        "\n",
        "try:\n",
        "    open(\"missing.txt\", \"r\")\n",
        "except FileNotFoundError:\n",
        "    logging.error(\"File not found error!\")"
      ],
      "metadata": {
        "id": "h_jw6mFflWLU"
      },
      "execution_count": 40,
      "outputs": []
    }
  ]
}